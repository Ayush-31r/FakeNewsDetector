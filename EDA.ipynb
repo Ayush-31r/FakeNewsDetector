{
 "cells": [
  {
   "cell_type": "code",
   "execution_count": null,
   "id": "e5cbacac",
   "metadata": {},
   "outputs": [],
   "source": [
    "import pandas as pd\n",
    "import matplotlib.pyplot as plt\n",
    "import seaborn as sns\n",
    "\n",
    "from sklearn.model_selection import train_test_split\n",
    "from sklearn.feature_extraction.text import TfidfVectorizer\n",
    "from sklearn.linear_model import PassiveAggressiveClassifier\n",
    "from sklearn.metrics import accuracy_score, confusion_matrix, classification_report"
   ]
  },
  {
   "cell_type": "code",
   "execution_count": null,
   "id": "a6d01403",
   "metadata": {},
   "outputs": [],
   "source": [
    "# Make sure you place your dataset inside /data\n",
    "df = pd.read_csv(\"../data/fake_or_real_news.csv\")\n",
    "\n",
    "# Preview dataset\n",
    "print(df.shape)\n",
    "df.head()\n",
    "python\n",
    "Copy code\n"
   ]
  },
  {
   "cell_type": "code",
   "execution_count": null,
   "id": "86d5edcd",
   "metadata": {},
   "outputs": [],
   "source": [
    "# --- 3. Quick EDA ---\n",
    "# Distribution of labels\n",
    "sns.countplot(x=\"label\", data=df)\n",
    "plt.title(\"Class Distribution (Fake vs Real)\")\n",
    "plt.show()\n",
    "\n",
    "# Text length distribution\n",
    "df[\"text_length\"] = df[\"text\"].apply(lambda x: len(str(x).split()))\n",
    "sns.histplot(df[\"text_length\"], bins=50, kde=True)\n",
    "plt.title(\"Distribution of Article Lengths\")\n",
    "plt.show()\n"
   ]
  },
  {
   "cell_type": "code",
   "execution_count": null,
   "id": "68a2a064",
   "metadata": {},
   "outputs": [],
   "source": [
    "X = df[\"text\"]\n",
    "y = df[\"label\"]\n",
    "\n",
    "X_train, X_test, y_train, y_test = train_test_split(\n",
    "    X, y, test_size=0.2, random_state=42\n",
    ")\n",
    "\n",
    "# TF-IDF Vectorization\n",
    "vectorizer = TfidfVectorizer(stop_words=\"english\", max_df=0.7)\n",
    "X_train_tfidf = vectorizer.fit_transform(X_train)\n",
    "X_test_tfidf = vectorizer.transform(X_test)"
   ]
  },
  {
   "cell_type": "code",
   "execution_count": null,
   "id": "e9fdcb9f",
   "metadata": {},
   "outputs": [],
   "source": [
    "# --- 5. Model Training ---\n",
    "model = PassiveAggressiveClassifier(max_iter=50)\n",
    "model.fit(X_train_tfidf, y_train)\n",
    "\n",
    "y_pred = model.predict(X_test)\n"
   ]
  },
  {
   "cell_type": "code",
   "execution_count": null,
   "id": "0a11bd24",
   "metadata": {},
   "outputs": [],
   "source": [
    "acc = accuracy_score(y_test, y_pred)\n",
    "print(f\"Accuracy: {acc:.4f}\")\n",
    "\n",
    "print(\"\\nClassification Report:\")\n",
    "print(classification_report(y_test, y_pred))\n",
    "\n",
    "cm = confusion_matrix(y_test, y_pred)\n",
    "sns.heatmap(cm, annot=True, fmt=\"d\", cmap=\"Blues\",\n",
    "            xticklabels=model.classes_,\n",
    "            yticklabels=model.classes_)\n",
    "plt.xlabel(\"Predicted\")\n",
    "plt.ylabel(\"Actual\")\n",
    "plt.title(\"Confusion Matrix\")\n",
    "plt.show()"
   ]
  },
  {
   "cell_type": "code",
   "execution_count": null,
   "id": "5950fc25",
   "metadata": {},
   "outputs": [],
   "source": [
    "# --- 7. Sample Predictions ---\n",
    "sample_texts = [\n",
    "    \"Breaking: The government announced new economic reforms today.\",\n",
    "    \"Shocking news! Aliens have landed in New York City according to sources.\"\n",
    "]\n",
    "\n",
    "sample_tfidf = vectorizer.transform(sample_texts)\n",
    "predictions = model.predict(sample_tfidf)\n",
    "\n",
    "for text, label in zip(sample_texts, predictions):\n",
    "    print(f\"[{label}] {text}\")\n"
   ]
  }
 ],
 "metadata": {
  "kernelspec": {
   "display_name": "venv",
   "language": "python",
   "name": "python3"
  },
  "language_info": {
   "name": "python",
   "version": "3.12.2"
  }
 },
 "nbformat": 4,
 "nbformat_minor": 5
}
